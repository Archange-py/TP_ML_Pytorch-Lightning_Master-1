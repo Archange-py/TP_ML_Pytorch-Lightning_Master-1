{
  "cells": [
    {
      "cell_type": "markdown",
      "metadata": {
        "id": "3u0jjT3HHF7Q"
      },
      "source": [
        "## Using PyTorch Lightning for a regression task with the dataset Boston Housing Prices (BHPD) Dataset\n",
        "\n",
        "*Remark : This code was adapted from the Boston housing example from Fidle online courses (Jean-Luc Parouty)*\n",
        "\n",
        "This notebook consists in predicting **housing prices** from a set of house features. It allows discovering **PyTorch Lightning** with simple fully connected neural networks for a regression task.\n",
        "\n",
        "\n",
        "The **[Boston Housing Prices Dataset](https://www.cs.toronto.edu/~delve/data/boston/bostonDetail.html)** consists in estimating the price of houses in different neighbourhoods of Boston.  \n",
        "\n",
        "The following variables will be used to predict the house prices:\n",
        "\n",
        " - CRIM: This is the per capita crime rate by town\n",
        " - ZN: This is the proportion of residential land zoned for lots larger than 25,000 sq.ft\n",
        " - INDUS: This is the proportion of non-retail business acres per town\n",
        " - CHAS: This is the Charles River dummy variable (this is equal to 1 if tract bounds river; 0 otherwise)\n",
        " - NOX: This is the nitric oxides concentration (parts per 10 million)\n",
        " - RM: This is the average number of rooms per dwelling\n",
        " - AGE: This is the proportion of owner-occupied units built prior to 1940\n",
        " - DIS: This is the weighted distances to five Boston employment centers\n",
        " - RAD: This is the index of accessibility to radial highways\n",
        " - TAX: This is the full-value property-tax rate per 10,000 dollars\n",
        " - PTRATIO: This is the pupil-teacher ratio by town\n",
        " - B: This is calculated as 1000(Bk — 0.63)^2, where Bk is the proportion of people of African American descent by town\n",
        " - LSTAT: This is the percentage lower status of the population\n",
        " - MEDV: This is the median value of owner-occupied homes in 1000 dollars\n",
        "\n",
        "\n",
        "\n",
        " ### Step 1 - Import and initialize the data"
      ]
    },
    {
      "cell_type": "code",
      "execution_count": null,
      "metadata": {
        "id": "jUisuUjOG9pM"
      },
      "outputs": [],
      "source": [
        "import torch\n",
        "import torch.nn as nn\n",
        "import torch.nn.functional as F\n",
        "\n",
        "import matplotlib.pyplot as plt\n",
        "\n",
        "import pandas as pd\n",
        "import numpy as np\n",
        "\n",
        "import lightning as L"
      ]
    },
    {
      "cell_type": "code",
      "execution_count": 37,
      "metadata": {
        "colab": {
          "base_uri": "https://localhost:8080/"
        },
        "id": "a516AMCfHsRn",
        "outputId": "066ae490-61b8-4099-adef-da6580009b49"
      },
      "outputs": [
        {
          "name": "stdout",
          "output_type": "stream",
          "text": [
            "torch.Size([325, 14])\n",
            "torch.Size([181, 14])\n",
            "torch.Size([325])\n",
            "torch.Size([181])\n"
          ]
        }
      ],
      "source": [
        "dataset = pd.read_csv(\"./boston_housing_scikit_learn_3.csv\")\n",
        "\n",
        "x_load = np.array([dataset[name] for name in [\"CRIM\",\"ZN\",\"INDUS\",\"CHAS\",\"NOX\",\"RM\",\"AGE\",\"DIS\",\"RAD\",\"TAX\",\"PTRATIO\",\"B\",\"LSTAT\",\"MEDV\"]])\n",
        "y_load = np.array(dataset[\"MEDV\"])\n",
        "\n",
        "x_train, y_train = x_load[:,:325].transpose(), y_load[:325]\n",
        "x_test, y_test = x_load[:,325:].transpose(), y_load[325:]\n",
        "\n",
        "x_train, y_train = torch.tensor(x_train).float(), torch.tensor(y_train).float()\n",
        "x_test, y_test = torch.tensor(x_test).float(), torch.tensor(y_test).float()\n",
        "\n",
        "print(x_train.shape)\n",
        "print(x_test.shape)\n",
        "print(y_train.shape)\n",
        "print(y_test.shape)"
      ]
    },
    {
      "cell_type": "code",
      "execution_count": 38,
      "metadata": {
        "colab": {
          "base_uri": "https://localhost:8080/"
        },
        "id": "AfHTfY6jIPX3",
        "outputId": "7627e601-3848-4e16-f8d0-0efbc371e2fb"
      },
      "outputs": [
        {
          "name": "stdout",
          "output_type": "stream",
          "text": [
            "input 0: tensor([6.3200e-03, 1.8000e+01, 2.3100e+00, 0.0000e+00, 5.3800e-01, 6.5750e+00,\n",
            "        6.5200e+01, 4.0900e+00, 1.0000e+00, 2.9600e+02, 1.5300e+01, 3.9690e+02,\n",
            "        4.9800e+00, 2.4000e+01])\n",
            "output 0: tensor(24.)\n"
          ]
        }
      ],
      "source": [
        "#show one raw observation\n",
        "\n",
        "print('input 0:', x_train[0,:])\n",
        "print('output 0:', y_train[0])\n"
      ]
    },
    {
      "cell_type": "code",
      "execution_count": 39,
      "metadata": {
        "id": "qkNuwyP8IVta"
      },
      "outputs": [],
      "source": [
        "#data normalization\n",
        "\n",
        "mean = x_train.mean()\n",
        "std  = x_train.std()\n",
        "x_train = (x_train - mean) / std\n",
        "x_test  = (x_test  - mean) / std"
      ]
    },
    {
      "cell_type": "markdown",
      "metadata": {
        "id": "aaV-5_QmHlU5"
      },
      "source": [
        "## Step 2 - Instanciate and train a model\n",
        "Information about:\n",
        " - [Optimizer](https://www.tensorflow.org/api_docs/python/tf/keras/optimizers)\n",
        " - [Activation](https://www.tensorflow.org/api_docs/python/tf/keras/activations)\n",
        " - [Loss](https://www.tensorflow.org/api_docs/python/tf/keras/losses)\n",
        " - [Metrics](https://www.tensorflow.org/api_docs/python/tf/keras/metrics)\n"
      ]
    },
    {
      "cell_type": "code",
      "execution_count": 40,
      "metadata": {
        "id": "rv_VZDOVIm4I"
      },
      "outputs": [],
      "source": [
        "class model_v1(L.LightningModule):\n",
        "    \"\"\"\n",
        "    Basic fully connected neural-network for tabular data\n",
        "    \"\"\"\n",
        "    def __init__(self, num_vars):\n",
        "        super().__init__()\n",
        "        self.num_vars = num_vars\n",
        "        self.training_step_outputs = []\n",
        "        self.layers = nn.Sequential(\n",
        "                nn.Linear(self.num_vars, 64),\n",
        "                nn.ReLU(),\n",
        "                nn.Linear(64, 64),\n",
        "                nn.ReLU(),\n",
        "                nn.Linear(64, 1)\n",
        "            )\n",
        "\n",
        "    def forward(self, x):\n",
        "        return self.layers(x)\n",
        "\n",
        "    def backward(self, loss):\n",
        "        self.training_step_outputs.append(loss.detach().cpu().numpy())\n",
        "        loss.backward()\n",
        "\n",
        "    def configure_optimizers(self):\n",
        "        otimizer = torch.optim.Adam(self.parameters(),lr=1e-3)\n",
        "        return otimizer\n",
        "\n",
        "    def training_step(self, batch):\n",
        "        # training_step defines the train loop.\n",
        "        x, y = batch\n",
        "        x = x.view(-1,self.num_vars)   #flatten the observation before using fully-connected layers\n",
        "        z = self.encoder(x)\n",
        "        loss = F.mse_loss(z, y)\n",
        "        return loss"
      ]
    },
    {
      "cell_type": "code",
      "execution_count": 41,
      "metadata": {
        "colab": {
          "base_uri": "https://localhost:8080/",
          "height": 614,
          "referenced_widgets": [
            "50ffdc80066341be9d69fb453a1ee4b5",
            "f9658a9b47e7443db5d50f89bb45b576",
            "b02ca651a3dd489da4094c71daab7dbf",
            "2f53e26994ea4ada8ac6c785e7ce9564",
            "8b451eafc1154d0abc93a3ab189fc3d4",
            "48f7212979d94ab886a9878898565dd8",
            "6aafcf265b7644d7b6f3d9987e8505d1",
            "50230d21f1ff40d3aa37cc34b0981358",
            "ee17bfdf13974492b91af49877e28205",
            "8385f06e703e44c396fe5d19781ed796",
            "9236f5a77a7d41908f345c9bda749262"
          ]
        },
        "id": "rdSKxpPHKg-t",
        "outputId": "1e0a3e4e-b137-42f3-94c4-18e919e2b251"
      },
      "outputs": [
        {
          "name": "stderr",
          "output_type": "stream",
          "text": [
            "INFO: GPU available: True (cuda), used: True\n",
            "INFO:lightning.pytorch.utilities.rank_zero:GPU available: True (cuda), used: True\n",
            "INFO: TPU available: False, using: 0 TPU cores\n",
            "INFO:lightning.pytorch.utilities.rank_zero:TPU available: False, using: 0 TPU cores\n",
            "INFO: HPU available: False, using: 0 HPUs\n",
            "INFO:lightning.pytorch.utilities.rank_zero:HPU available: False, using: 0 HPUs\n",
            "INFO: LOCAL_RANK: 0 - CUDA_VISIBLE_DEVICES: [0]\n",
            "INFO:lightning.pytorch.accelerators.cuda:LOCAL_RANK: 0 - CUDA_VISIBLE_DEVICES: [0]\n",
            "INFO: \n",
            "  | Name    | Type       | Params | Mode \n",
            "-----------------------------------------------\n",
            "0 | encoder | Sequential | 5.2 K  | train\n",
            "-----------------------------------------------\n",
            "5.2 K     Trainable params\n",
            "0         Non-trainable params\n",
            "5.2 K     Total params\n",
            "0.021     Total estimated model params size (MB)\n",
            "INFO:lightning.pytorch.callbacks.model_summary:\n",
            "  | Name    | Type       | Params | Mode \n",
            "-----------------------------------------------\n",
            "0 | encoder | Sequential | 5.2 K  | train\n",
            "-----------------------------------------------\n",
            "5.2 K     Trainable params\n",
            "0         Non-trainable params\n",
            "5.2 K     Total params\n",
            "0.021     Total estimated model params size (MB)\n"
          ]
        },
        {
          "data": {
            "application/vnd.jupyter.widget-view+json": {
              "model_id": "50ffdc80066341be9d69fb453a1ee4b5",
              "version_major": 2,
              "version_minor": 0
            },
            "text/plain": [
              "Training: |          | 0/? [00:00<?, ?it/s]"
            ]
          },
          "metadata": {},
          "output_type": "display_data"
        },
        {
          "name": "stderr",
          "output_type": "stream",
          "text": [
            "<ipython-input-40-26bf6b813c1f>:34: UserWarning: Using a target size (torch.Size([])) that is different to the input size (torch.Size([1, 1])). This will likely lead to incorrect results due to broadcasting. Please ensure they have the same size.\n",
            "  loss = F.mse_loss(z, y)\n",
            "INFO: `Trainer.fit` stopped: `max_epochs=60` reached.\n",
            "INFO:lightning.pytorch.utilities.rank_zero:`Trainer.fit` stopped: `max_epochs=60` reached.\n"
          ]
        }
      ],
      "source": [
        "#instanciate the model\n",
        "model = model_v1( x_train[0,:].shape[0])\n",
        "trainer = L.Trainer(min_epochs=10, max_epochs=60)\n",
        "trainer.fit(model, (x_train, y_train))"
      ]
    },
    {
      "cell_type": "markdown",
      "metadata": {
        "id": "zMbkAQ0_LKWU"
      },
      "source": [
        "## Step 3 - test the model\n",
        "\n"
      ]
    },
    {
      "cell_type": "code",
      "execution_count": 1,
      "metadata": {
        "colab": {
          "base_uri": "https://localhost:8080/",
          "height": 508
        },
        "id": "Ph9ggvE1goxP",
        "outputId": "158e5789-b4ea-4841-d6d2-24bc47c4cf08"
      },
      "outputs": [
        {
          "ename": "NameError",
          "evalue": "name 'model' is not defined",
          "output_type": "error",
          "traceback": [
            "\u001b[1;31m---------------------------------------------------------------------------\u001b[0m",
            "\u001b[1;31mNameError\u001b[0m                                 Traceback (most recent call last)",
            "Cell \u001b[1;32mIn[1], line 1\u001b[0m\n\u001b[1;32m----> 1\u001b[0m \u001b[38;5;28mprint\u001b[39m(\u001b[43mmodel\u001b[49m\u001b[38;5;241m.\u001b[39mtraining_step_outputs)\n\u001b[0;32m      2\u001b[0m plt\u001b[38;5;241m.\u001b[39mplot(model\u001b[38;5;241m.\u001b[39mtraining_step_outputs)\n\u001b[0;32m      3\u001b[0m plt\u001b[38;5;241m.\u001b[39mtitle(\u001b[38;5;124m'\u001b[39m\u001b[38;5;124mLoss\u001b[39m\u001b[38;5;124m'\u001b[39m)\n",
            "\u001b[1;31mNameError\u001b[0m: name 'model' is not defined"
          ]
        }
      ],
      "source": [
        "print(model.training_step_outputs)\n",
        "plt.plot(model.training_step_outputs)\n",
        "plt.title('Loss')"
      ]
    },
    {
      "cell_type": "code",
      "execution_count": 43,
      "metadata": {
        "colab": {
          "base_uri": "https://localhost:8080/"
        },
        "id": "kr5SgQE5LXUQ",
        "outputId": "53f81941-3a4c-498c-dde6-19c99d7a7f86"
      },
      "outputs": [
        {
          "name": "stdout",
          "output_type": "stream",
          "text": [
            "The mean of the last loss for the train is: 153.2789306640625.\n",
            "The mean of the last loss for the test is: 125.24944305419922.\n"
          ]
        }
      ],
      "source": [
        "Y_train_pred=model(x_train[:,:].float())\n",
        "Y_test_pred=model(x_test[:,:].float())\n",
        "\n",
        "mse_train = [torch.mean((Y_train_pred-y_train)*(Y_train_pred-y_train)).detach().numpy()]\n",
        "mse_test = [torch.mean((Y_test_pred-y_test)*(Y_test_pred-y_test)).detach().numpy()]\n",
        "\n",
        "print(f\"The mean of the last loss for the train is: {mse_train[0]}.\")\n",
        "print(f\"The mean of the last loss for the test is: {mse_test[0]}.\")"
      ]
    },
    {
      "cell_type": "code",
      "execution_count": 57,
      "metadata": {
        "colab": {
          "base_uri": "https://localhost:8080/"
        },
        "id": "iZv5cEsHLzU1",
        "outputId": "0f3f81b4-942b-47c4-bb03-e3f626cad88c"
      },
      "outputs": [
        {
          "name": "stdout",
          "output_type": "stream",
          "text": [
            "Prediction : 24.790102005004883 K$\n"
          ]
        },
        {
          "name": "stderr",
          "output_type": "stream",
          "text": [
            "<ipython-input-57-cc7f0912deef>:2: UserWarning: To copy construct from a tensor, it is recommended to use sourceTensor.clone().detach() or sourceTensor.clone().detach().requires_grad_(True), rather than torch.tensor(sourceTensor).\n",
            "  my_data = torch.tensor(my_data_centered_reduced)\n"
          ]
        }
      ],
      "source": [
        "my_data_centered_reduced = x_test[0,:]\n",
        "my_data = torch.tensor(my_data_centered_reduced)\n",
        "\n",
        "predictions = model(my_data).detach().numpy()[0]\n",
        "\n",
        "print(f\"Prediction : {predictions} K$\")"
      ]
    }
  ],
  "metadata": {
    "accelerator": "GPU",
    "colab": {
      "gpuType": "T4",
      "provenance": []
    },
    "kernelspec": {
      "display_name": "Python 3",
      "name": "python3"
    },
    "language_info": {
      "codemirror_mode": {
        "name": "ipython",
        "version": 3
      },
      "file_extension": ".py",
      "mimetype": "text/x-python",
      "name": "python",
      "nbconvert_exporter": "python",
      "pygments_lexer": "ipython3",
      "version": "3.11.5"
    },
    "widgets": {
      "application/vnd.jupyter.widget-state+json": {
        "2f53e26994ea4ada8ac6c785e7ce9564": {
          "model_module": "@jupyter-widgets/controls",
          "model_module_version": "1.5.0",
          "model_name": "HTMLModel",
          "state": {
            "_dom_classes": [],
            "_model_module": "@jupyter-widgets/controls",
            "_model_module_version": "1.5.0",
            "_model_name": "HTMLModel",
            "_view_count": null,
            "_view_module": "@jupyter-widgets/controls",
            "_view_module_version": "1.5.0",
            "_view_name": "HTMLView",
            "description": "",
            "description_tooltip": null,
            "layout": "IPY_MODEL_8385f06e703e44c396fe5d19781ed796",
            "placeholder": "​",
            "style": "IPY_MODEL_9236f5a77a7d41908f345c9bda749262",
            "value": " 325/325 [00:01&lt;00:00, 249.38it/s, v_num=1]"
          }
        },
        "48f7212979d94ab886a9878898565dd8": {
          "model_module": "@jupyter-widgets/base",
          "model_module_version": "1.2.0",
          "model_name": "LayoutModel",
          "state": {
            "_model_module": "@jupyter-widgets/base",
            "_model_module_version": "1.2.0",
            "_model_name": "LayoutModel",
            "_view_count": null,
            "_view_module": "@jupyter-widgets/base",
            "_view_module_version": "1.2.0",
            "_view_name": "LayoutView",
            "align_content": null,
            "align_items": null,
            "align_self": null,
            "border": null,
            "bottom": null,
            "display": null,
            "flex": null,
            "flex_flow": null,
            "grid_area": null,
            "grid_auto_columns": null,
            "grid_auto_flow": null,
            "grid_auto_rows": null,
            "grid_column": null,
            "grid_gap": null,
            "grid_row": null,
            "grid_template_areas": null,
            "grid_template_columns": null,
            "grid_template_rows": null,
            "height": null,
            "justify_content": null,
            "justify_items": null,
            "left": null,
            "margin": null,
            "max_height": null,
            "max_width": null,
            "min_height": null,
            "min_width": null,
            "object_fit": null,
            "object_position": null,
            "order": null,
            "overflow": null,
            "overflow_x": null,
            "overflow_y": null,
            "padding": null,
            "right": null,
            "top": null,
            "visibility": null,
            "width": null
          }
        },
        "50230d21f1ff40d3aa37cc34b0981358": {
          "model_module": "@jupyter-widgets/base",
          "model_module_version": "1.2.0",
          "model_name": "LayoutModel",
          "state": {
            "_model_module": "@jupyter-widgets/base",
            "_model_module_version": "1.2.0",
            "_model_name": "LayoutModel",
            "_view_count": null,
            "_view_module": "@jupyter-widgets/base",
            "_view_module_version": "1.2.0",
            "_view_name": "LayoutView",
            "align_content": null,
            "align_items": null,
            "align_self": null,
            "border": null,
            "bottom": null,
            "display": null,
            "flex": "2",
            "flex_flow": null,
            "grid_area": null,
            "grid_auto_columns": null,
            "grid_auto_flow": null,
            "grid_auto_rows": null,
            "grid_column": null,
            "grid_gap": null,
            "grid_row": null,
            "grid_template_areas": null,
            "grid_template_columns": null,
            "grid_template_rows": null,
            "height": null,
            "justify_content": null,
            "justify_items": null,
            "left": null,
            "margin": null,
            "max_height": null,
            "max_width": null,
            "min_height": null,
            "min_width": null,
            "object_fit": null,
            "object_position": null,
            "order": null,
            "overflow": null,
            "overflow_x": null,
            "overflow_y": null,
            "padding": null,
            "right": null,
            "top": null,
            "visibility": null,
            "width": null
          }
        },
        "50ffdc80066341be9d69fb453a1ee4b5": {
          "model_module": "@jupyter-widgets/controls",
          "model_module_version": "1.5.0",
          "model_name": "HBoxModel",
          "state": {
            "_dom_classes": [],
            "_model_module": "@jupyter-widgets/controls",
            "_model_module_version": "1.5.0",
            "_model_name": "HBoxModel",
            "_view_count": null,
            "_view_module": "@jupyter-widgets/controls",
            "_view_module_version": "1.5.0",
            "_view_name": "HBoxView",
            "box_style": "",
            "children": [
              "IPY_MODEL_f9658a9b47e7443db5d50f89bb45b576",
              "IPY_MODEL_b02ca651a3dd489da4094c71daab7dbf",
              "IPY_MODEL_2f53e26994ea4ada8ac6c785e7ce9564"
            ],
            "layout": "IPY_MODEL_8b451eafc1154d0abc93a3ab189fc3d4"
          }
        },
        "6aafcf265b7644d7b6f3d9987e8505d1": {
          "model_module": "@jupyter-widgets/controls",
          "model_module_version": "1.5.0",
          "model_name": "DescriptionStyleModel",
          "state": {
            "_model_module": "@jupyter-widgets/controls",
            "_model_module_version": "1.5.0",
            "_model_name": "DescriptionStyleModel",
            "_view_count": null,
            "_view_module": "@jupyter-widgets/base",
            "_view_module_version": "1.2.0",
            "_view_name": "StyleView",
            "description_width": ""
          }
        },
        "8385f06e703e44c396fe5d19781ed796": {
          "model_module": "@jupyter-widgets/base",
          "model_module_version": "1.2.0",
          "model_name": "LayoutModel",
          "state": {
            "_model_module": "@jupyter-widgets/base",
            "_model_module_version": "1.2.0",
            "_model_name": "LayoutModel",
            "_view_count": null,
            "_view_module": "@jupyter-widgets/base",
            "_view_module_version": "1.2.0",
            "_view_name": "LayoutView",
            "align_content": null,
            "align_items": null,
            "align_self": null,
            "border": null,
            "bottom": null,
            "display": null,
            "flex": null,
            "flex_flow": null,
            "grid_area": null,
            "grid_auto_columns": null,
            "grid_auto_flow": null,
            "grid_auto_rows": null,
            "grid_column": null,
            "grid_gap": null,
            "grid_row": null,
            "grid_template_areas": null,
            "grid_template_columns": null,
            "grid_template_rows": null,
            "height": null,
            "justify_content": null,
            "justify_items": null,
            "left": null,
            "margin": null,
            "max_height": null,
            "max_width": null,
            "min_height": null,
            "min_width": null,
            "object_fit": null,
            "object_position": null,
            "order": null,
            "overflow": null,
            "overflow_x": null,
            "overflow_y": null,
            "padding": null,
            "right": null,
            "top": null,
            "visibility": null,
            "width": null
          }
        },
        "8b451eafc1154d0abc93a3ab189fc3d4": {
          "model_module": "@jupyter-widgets/base",
          "model_module_version": "1.2.0",
          "model_name": "LayoutModel",
          "state": {
            "_model_module": "@jupyter-widgets/base",
            "_model_module_version": "1.2.0",
            "_model_name": "LayoutModel",
            "_view_count": null,
            "_view_module": "@jupyter-widgets/base",
            "_view_module_version": "1.2.0",
            "_view_name": "LayoutView",
            "align_content": null,
            "align_items": null,
            "align_self": null,
            "border": null,
            "bottom": null,
            "display": "inline-flex",
            "flex": null,
            "flex_flow": "row wrap",
            "grid_area": null,
            "grid_auto_columns": null,
            "grid_auto_flow": null,
            "grid_auto_rows": null,
            "grid_column": null,
            "grid_gap": null,
            "grid_row": null,
            "grid_template_areas": null,
            "grid_template_columns": null,
            "grid_template_rows": null,
            "height": null,
            "justify_content": null,
            "justify_items": null,
            "left": null,
            "margin": null,
            "max_height": null,
            "max_width": null,
            "min_height": null,
            "min_width": null,
            "object_fit": null,
            "object_position": null,
            "order": null,
            "overflow": null,
            "overflow_x": null,
            "overflow_y": null,
            "padding": null,
            "right": null,
            "top": null,
            "visibility": null,
            "width": "100%"
          }
        },
        "9236f5a77a7d41908f345c9bda749262": {
          "model_module": "@jupyter-widgets/controls",
          "model_module_version": "1.5.0",
          "model_name": "DescriptionStyleModel",
          "state": {
            "_model_module": "@jupyter-widgets/controls",
            "_model_module_version": "1.5.0",
            "_model_name": "DescriptionStyleModel",
            "_view_count": null,
            "_view_module": "@jupyter-widgets/base",
            "_view_module_version": "1.2.0",
            "_view_name": "StyleView",
            "description_width": ""
          }
        },
        "b02ca651a3dd489da4094c71daab7dbf": {
          "model_module": "@jupyter-widgets/controls",
          "model_module_version": "1.5.0",
          "model_name": "FloatProgressModel",
          "state": {
            "_dom_classes": [],
            "_model_module": "@jupyter-widgets/controls",
            "_model_module_version": "1.5.0",
            "_model_name": "FloatProgressModel",
            "_view_count": null,
            "_view_module": "@jupyter-widgets/controls",
            "_view_module_version": "1.5.0",
            "_view_name": "ProgressView",
            "bar_style": "success",
            "description": "",
            "description_tooltip": null,
            "layout": "IPY_MODEL_50230d21f1ff40d3aa37cc34b0981358",
            "max": 325,
            "min": 0,
            "orientation": "horizontal",
            "style": "IPY_MODEL_ee17bfdf13974492b91af49877e28205",
            "value": 325
          }
        },
        "ee17bfdf13974492b91af49877e28205": {
          "model_module": "@jupyter-widgets/controls",
          "model_module_version": "1.5.0",
          "model_name": "ProgressStyleModel",
          "state": {
            "_model_module": "@jupyter-widgets/controls",
            "_model_module_version": "1.5.0",
            "_model_name": "ProgressStyleModel",
            "_view_count": null,
            "_view_module": "@jupyter-widgets/base",
            "_view_module_version": "1.2.0",
            "_view_name": "StyleView",
            "bar_color": null,
            "description_width": ""
          }
        },
        "f9658a9b47e7443db5d50f89bb45b576": {
          "model_module": "@jupyter-widgets/controls",
          "model_module_version": "1.5.0",
          "model_name": "HTMLModel",
          "state": {
            "_dom_classes": [],
            "_model_module": "@jupyter-widgets/controls",
            "_model_module_version": "1.5.0",
            "_model_name": "HTMLModel",
            "_view_count": null,
            "_view_module": "@jupyter-widgets/controls",
            "_view_module_version": "1.5.0",
            "_view_name": "HTMLView",
            "description": "",
            "description_tooltip": null,
            "layout": "IPY_MODEL_48f7212979d94ab886a9878898565dd8",
            "placeholder": "​",
            "style": "IPY_MODEL_6aafcf265b7644d7b6f3d9987e8505d1",
            "value": "Epoch 59: 100%"
          }
        }
      }
    }
  },
  "nbformat": 4,
  "nbformat_minor": 0
}
